{
 "metadata": {
  "name": "Tutorial_Anatomy_Of_The_Haemodynamic_Response_Function"
 }, 
 "nbformat": 2, 
 "worksheets": [
  {
   "cells": [
    {
     "cell_type": "markdown", 
     "source": [
      "Tutorial: Anatomy Of The Haemodynamic Response Function of TVB", 
      "==============================================================="
     ]
    }, 
    {
     "cell_type": "markdown", 
     "source": [
      "This tutorial explores the haemodynamic response function (HRF) used to compute the BOLD (Blood Oxygenation Level Dependent) signal. ", 
      "TVB uses a simplified HRF represented by the first Volterra kernel as presented in the work of Friston et al. (2000). ", 
      "This HRF is shown below, and exhibits a rise peaking around 0.8 seconds using its default parameters. The length and shape of this function depend on the following parameters: ", 
      "", 
      "", 
      "1. $\\tau_s$, rate constant of signal decay;", 
      "2. $\\tau_f$, rate constant of feedback regulation;", 
      "", 
      "", 
      "Setup", 
      "-----", 
      "", 
      "Since we are not going to perform a simulation, we'll only import TVB monitors to access the parameters of TVB's Bold monitor: "
     ]
    }, 
    {
     "cell_type": "code", 
     "collapsed": true, 
     "input": [
      "from tvb.simulator import monitors"
     ], 
     "language": "python", 
     "outputs": [], 
     "prompt_number": 1
    }, 
    {
     "cell_type": "markdown", 
     "source": [
      "We also need some plotting utilities:"
     ]
    }, 
    {
     "cell_type": "code", 
     "collapsed": true, 
     "input": [
      "from pylab import *"
     ], 
     "language": "python", 
     "outputs": [], 
     "prompt_number": 2
    }, 
    {
     "cell_type": "markdown", 
     "source": [
      "*Bold Monitor*", 
      "--------", 
      "", 
      "", 
      "", 
      "Let's start creating an instance of the Bold monitor with its default parameters:"
     ]
    }, 
    {
     "cell_type": "code", 
     "collapsed": true, 
     "input": [
      "bold = monitors.Bold()"
     ], 
     "language": "python", 
     "outputs": [], 
     "prompt_number": 3
    }, 
    {
     "cell_type": "markdown", 
     "source": [
      "In general, the sampling period of a monitor is in milliseconds and must be an integral multiple of integration-step size used in a simulation. Therefore, monitors need to know the integration time step (*dt*) because their sampling period depends on it. An easy way to achieve this is:"
     ]
    }, 
    {
     "cell_type": "code", 
     "collapsed": true, 
     "input": [
      "bold.dt = 2**-4 # Default value used in the scripts found at tvb/simulator/demos"
     ], 
     "language": "python", 
     "outputs": [], 
     "prompt_number": 4
    }, 
    {
     "cell_type": "code", 
     "collapsed": false, 
     "input": [
      "print 'tau_s: %1.2f ; tau_f: %1.2f' % (bold.tau_s, bold.tau_f) "
     ], 
     "language": "python", 
     "outputs": [
      {
       "output_type": "stream", 
       "stream": "stdout", 
       "text": [
        "tau_s: 0.80 ; tau_f: 0.40"
       ]
      }
     ], 
     "prompt_number": 5
    }, 
    {
     "cell_type": "code", 
     "collapsed": true, 
     "input": [
      "bold.compute_hrf()"
     ], 
     "language": "python", 
     "outputs": [], 
     "prompt_number": 6
    }, 
    {
     "cell_type": "markdown", 
     "source": [
      "By default, the method *compute_hrf* gives the reflected version of the HRF. The product between this reflected HRF and the monitor's stock (convolution) yields the BOLD signal. The indexing [::-1] gets the raw HRF. "
     ]
    }, 
    {
     "cell_type": "code", 
     "collapsed": false, 
     "input": [
      "plot(bold._stock_time, bold.hemodynamic_response_function.T[::-1]); ylabel('hrf');xlabel('time [sec]')", 
      "plot(bold._stock_time[bold.hemodynamic_response_function.T[::-1].argmax()], bold.hemodynamic_response_function.T[::-1].max(), 'ko')"
     ], 
     "language": "python", 
     "outputs": [
      {
       "output_type": "pyout", 
       "prompt_number": 7, 
       "text": [
        "[&lt;matplotlib.lines.Line2D at 0x179f82d0&gt;]"
       ]
      }, 
      {
       "output_type": "display_data", 
       "png": "[encoded data removed]"
      }
     ], 
     "prompt_number": 7
    }, 
    {
     "cell_type": "code", 
     "collapsed": false, 
     "input": [
      "print 'Rising peak is around %1.2f seconds' % bold._stock_time[bold.hemodynamic_response_function.T[::-1].argmax()]"
     ], 
     "language": "python", 
     "outputs": [
      {
       "output_type": "stream", 
       "stream": "stdout", 
       "text": [
        "Rising peak is around 0.80 seconds"
       ]
      }
     ], 
     "prompt_number": 8
    }, 
    {
     "cell_type": "code", 
     "collapsed": true, 
     "input": [], 
     "language": "python", 
     "outputs": [], 
     "prompt_number": "&nbsp;"
    }
   ]
  }
 ]
}