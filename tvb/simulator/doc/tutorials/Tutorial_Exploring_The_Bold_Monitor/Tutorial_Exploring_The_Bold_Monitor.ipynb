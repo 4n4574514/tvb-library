{
 "metadata": {
  "name": "Tutorial_Exploring_The_Bold_Monitor"
 }, 
 "nbformat": 2, 
 "worksheets": [
  {
   "cells": [
    {
     "cell_type": "markdown", 
     "source": [
      "Tutorial: Exploring The Bold Monitor", 
      "==============================================================="
     ]
    }, 
    {
     "cell_type": "markdown", 
     "source": [
      "This tutorial explores the different functions used that model the haemodynamic response function (HRF) to compute the BOLD (Blood Oxygenation Level Dependent) signal. ", 
      "TVB uses simplified HRFs represented by either a Gamma function, a difference of exponential functions or the first Volterra kernel as presented in the work of Friston et al. (2000). ", 
      "These HRFs are shown below.", 
      "", 
      "", 
      "Setup", 
      "-----", 
      "", 
      "Since we are not going to perform a simulation, we'll only import TVB monitors to access the parameters of TVB's Bold monitor: "
     ]
    }, 
    {
     "cell_type": "code", 
     "collapsed": false, 
     "input": [
      "from tvb.simulator import monitors"
     ], 
     "language": "python", 
     "outputs": [
      {
       "output_type": "stream", 
       "stream": "stdout", 
       "text": [
        "2013-08-14 00:07:45,459 - WARNING - tvb.basic.traits.data_readers - Could not read data for field orientations on instance of class MetaType", 
        "list index out of range"
       ]
      }, 
      {
       "output_type": "stream", 
       "stream": "stdout", 
       "text": [
        "2013-08-14 00:07:45,459 - WARNING - tvb.basic.traits.data_readers - Could not read data for field orientations on instance of class MetaType", 
        "list index out of range"
       ]
      }, 
      {
       "output_type": "stream", 
       "stream": "stdout", 
       "text": [
        "2013-08-14 00:07:46,882 - WARNING - tvb.basic.traits.data_readers - Could not read data for field orientations on instance of class MetaType", 
        "list index out of range"
       ]
      }, 
      {
       "output_type": "stream", 
       "stream": "stdout", 
       "text": [
        "2013-08-14 00:07:46,882 - WARNING - tvb.basic.traits.data_readers - Could not read data for field orientations on instance of class MetaType", 
        "list index out of range"
       ]
      }, 
      {
       "output_type": "stream", 
       "stream": "stdout", 
       "text": [
        "2013-08-14 00:08:06,307 - WARNING - tvb.basic.traits.data_readers - Could not read data for field orientations on instance of class MetaType", 
        "list index out of range"
       ]
      }, 
      {
       "output_type": "stream", 
       "stream": "stdout", 
       "text": [
        "2013-08-14 00:08:06,307 - WARNING - tvb.basic.traits.data_readers - Could not read data for field orientations on instance of class MetaType", 
        "list index out of range"
       ]
      }, 
      {
       "output_type": "stream", 
       "stream": "stdout", 
       "text": [
        "2013-08-14 00:08:06,345 - WARNING - tvb.basic.traits.data_readers - Could not read data for field orientations on instance of class MetaType", 
        "list index out of range"
       ]
      }, 
      {
       "output_type": "stream", 
       "stream": "stdout", 
       "text": [
        "2013-08-14 00:08:06,345 - WARNING - tvb.basic.traits.data_readers - Could not read data for field orientations on instance of class MetaType", 
        "list index out of range"
       ]
      }
     ], 
     "prompt_number": 1
    }, 
    {
     "cell_type": "markdown", 
     "source": [
      "We also need some plotting utilities:"
     ]
    }, 
    {
     "cell_type": "code", 
     "collapsed": true, 
     "input": [
      "from pylab import *"
     ], 
     "language": "python", 
     "outputs": [], 
     "prompt_number": 2
    }, 
    {
     "cell_type": "markdown", 
     "source": [
      "*Bold Monitor*", 
      "--------", 
      "", 
      "", 
      "", 
      "Let's start creating an instance of the Bold monitor with its default parameters:"
     ]
    }, 
    {
     "cell_type": "code", 
     "collapsed": false, 
     "input": [
      "bold = monitors.Bold()"
     ], 
     "language": "python", 
     "outputs": [
      {
       "output_type": "stream", 
       "stream": "stdout", 
       "text": [
        "2013-08-14 00:09:22,455 - INFO - tvb.simulator.common - Bold(hrf_kernel, period, hrf_length, variables_of_interest): initing..."
       ]
      }, 
      {
       "output_type": "stream", 
       "stream": "stdout", 
       "text": [
        "2013-08-14 00:09:22,455 - INFO - tvb.simulator.common - Bold(hrf_kernel, period, hrf_length, variables_of_interest): initing..."
       ]
      }, 
      {
       "output_type": "stream", 
       "stream": "stdout", 
       "text": [
        "2013-08-14 00:09:22,457 - WARNING - tvb.simulator.common - Bold(hrf_kernel=Equation(bound=True, value=FirstOrderVolterra(bound=False, value=None), name=&apos;hrf_kernel&apos;), period=None, hrf_length=None, variables_of_interest=None): Needs testing, debugging, etc..."
       ]
      }, 
      {
       "output_type": "stream", 
       "stream": "stdout", 
       "text": [
        "2013-08-14 00:09:22,457 - WARNING - tvb.simulator.common - Bold(hrf_kernel=Equation(bound=True, value=FirstOrderVolterra(bound=False, value=None), name=&apos;hrf_kernel&apos;), period=None, hrf_length=None, variables_of_interest=None): Needs testing, debugging, etc..."
       ]
      }
     ], 
     "prompt_number": 3
    }, 
    {
     "cell_type": "markdown", 
     "source": [
      "In general, the sampling period of a monitor is in milliseconds and must be an integral multiple of integration-step size used in a simulation. Therefore, monitors need to know the integration time step (*dt*) because some data reduction mechanims (eg, downsampling to the monitor's sampling period) depends on it. An easy way to achieve this is:"
     ]
    }, 
    {
     "cell_type": "code", 
     "collapsed": true, 
     "input": [
      "bold.dt = 2**-4 # Default value used in the scripts found at tvb/simulator/demos"
     ], 
     "language": "python", 
     "outputs": [], 
     "prompt_number": 4
    }, 
    {
     "cell_type": "markdown", 
     "source": [
      "Since HRFs are TVB Equation datatypes, you can explore their attributes:"
     ]
    }, 
    {
     "cell_type": "code", 
     "collapsed": false, 
     "input": [
      "bold.hrf_kernel"
     ], 
     "language": "python", 
     "outputs": [
      {
       "output_type": "pyout", 
       "prompt_number": 5, 
       "text": [
        "FirstOrderVolterra(bound=False, value=None)"
       ]
      }
     ], 
     "prompt_number": 5
    }, 
    {
     "cell_type": "markdown", 
     "source": [
      "* see the equation itself,"
     ]
    }, 
    {
     "cell_type": "code", 
     "collapsed": false, 
     "input": [
      "bold.hrf_kernel.equation"
     ], 
     "language": "python", 
     "outputs": [
      {
       "output_type": "pyout", 
       "prompt_number": 6, 
       "text": [
        "&apos;1/3. * exp(-0.5*(var / tau_s)) * (sin(sqrt(1./tau_f - 1./(4.*tau_s**2)) * var)) / (sqrt(1./tau_f - 1./(4.*tau_s**2)))&apos;"
       ]
      }
     ], 
     "prompt_number": 6
    }, 
    {
     "cell_type": "markdown", 
     "source": [
      "* or check the function parameters,"
     ]
    }, 
    {
     "cell_type": "code", 
     "collapsed": false, 
     "input": [
      "bold.hrf_kernel.parameters"
     ], 
     "language": "python", 
     "outputs": [
      {
       "output_type": "pyout", 
       "prompt_number": 7, 
       "text": [
        "{&apos;V_0&apos;: 0.02, &apos;k_1&apos;: 5.6, &apos;tau_f&apos;: 0.4, &apos;tau_s&apos;: 0.8}"
       ]
      }
     ], 
     "prompt_number": 7
    }, 
    {
     "cell_type": "markdown", 
     "source": [
      "The shape of this function depends on the following parameters: ", 
      "", 
      "1. $\\tau_s$, rate constant of signal decay;", 
      "2. $\\tau_f$, rate constant of feedback regulation;", 
      "", 
      "* $V_0$ and $k_1$ are parameters used in the monitor to scale the amplitude of the response. "
     ]
    }, 
    {
     "cell_type": "markdown", 
     "source": [
      "Let's have a look at the function:"
     ]
    }, 
    {
     "cell_type": "code", 
     "collapsed": false, 
     "input": [
      "bold.compute_hrf()"
     ], 
     "language": "python", 
     "outputs": [
      {
       "output_type": "stream", 
       "stream": "stdout", 
       "text": [
        "2013-08-14 00:09:37,690 - WARNING - tvb.simulator.common - Bold(hrf_kernel=FirstOrderVolterra(bound=False, value=None), variables_of_interest=[], period=2000.0, hrf_length=19200.0): Needs testing, debugging, etc..."
       ]
      }, 
      {
       "output_type": "stream", 
       "stream": "stdout", 
       "text": [
        "2013-08-14 00:09:37,690 - WARNING - tvb.simulator.common - Bold(hrf_kernel=FirstOrderVolterra(bound=False, value=None), variables_of_interest=[], period=2000.0, hrf_length=19200.0): Needs testing, debugging, etc..."
       ]
      }
     ], 
     "prompt_number": 8
    }, 
    {
     "cell_type": "markdown", 
     "source": [
      "By default, the method **compute_hrf** gives the reflected version of the HRF. The product between this reflected HRF and the monitor's stock (convolution) yields the BOLD signal. The indexing [::-1] gets the raw HRF. "
     ]
    }, 
    {
     "cell_type": "code", 
     "collapsed": false, 
     "input": [
      "plot(bold._stock_time, bold.hemodynamic_response_function.T[::-1]); ylabel('hrf');xlabel('time [sec]')", 
      "plot(bold._stock_time[bold.hemodynamic_response_function.T[::-1].argmax()], bold.hemodynamic_response_function.T[::-1].max(), 'ko')"
     ], 
     "language": "python", 
     "outputs": [
      {
       "output_type": "pyout", 
       "prompt_number": 9, 
       "text": [
        "[&lt;matplotlib.lines.Line2D at 0x1221fc510&gt;]"
       ]
      }, 
      {
       "output_type": "display_data", 
       "png": "[encoded data removed]"
      }
     ], 
     "prompt_number": 9
    }, 
    {
     "cell_type": "code", 
     "collapsed": false, 
     "input": [
      "print 'Rising peak is around %1.2f seconds' % bold._stock_time[bold.hemodynamic_response_function.T[::-1].argmax()]"
     ], 
     "language": "python", 
     "outputs": [
      {
       "output_type": "stream", 
       "stream": "stdout", 
       "text": [
        "Rising peak is around 0.80 seconds"
       ]
      }
     ], 
     "prompt_number": 10
    }, 
    {
     "cell_type": "markdown", 
     "source": [
      "Exploring other HRF kernels", 
      "---------------------------", 
      "", 
      " ", 
      "First, we will create new instances of the Bold monitor.", 
      "", 
      "Second, the equation defining the hrf kernel has to be changed. To achieve this we will make use of the predefined functions as Equations datatypes "
     ]
    }, 
    {
     "cell_type": "code", 
     "collapsed": true, 
     "input": [
      "import tvb.datatypes.equations as equations"
     ], 
     "language": "python", 
     "outputs": [], 
     "prompt_number": 11
    }, 
    {
     "cell_type": "markdown", 
     "source": [
      "* In Boyton et al they used a simple gamma function"
     ]
    }, 
    {
     "cell_type": "code", 
     "collapsed": false, 
     "input": [
      "bold_1 = monitors.Bold(hrf_kernel=equations.Gamma())"
     ], 
     "language": "python", 
     "outputs": [
      {
       "output_type": "stream", 
       "stream": "stdout", 
       "text": [
        "2013-08-14 00:10:20,379 - INFO - tvb.simulator.common - Bold(hrf_kernel, period, hrf_length, variables_of_interest): initing..."
       ]
      }, 
      {
       "output_type": "stream", 
       "stream": "stdout", 
       "text": [
        "2013-08-14 00:10:20,379 - INFO - tvb.simulator.common - Bold(hrf_kernel, period, hrf_length, variables_of_interest): initing..."
       ]
      }, 
      {
       "output_type": "stream", 
       "stream": "stdout", 
       "text": [
        "2013-08-14 00:10:20,380 - WARNING - tvb.simulator.common - Bold(hrf_kernel=Equation(bound=True, value=FirstOrderVolterra(bound=False, value=None), name=&apos;hrf_kernel&apos;), period=None, hrf_length=None, variables_of_interest=None): Needs testing, debugging, etc..."
       ]
      }, 
      {
       "output_type": "stream", 
       "stream": "stdout", 
       "text": [
        "2013-08-14 00:10:20,380 - WARNING - tvb.simulator.common - Bold(hrf_kernel=Equation(bound=True, value=FirstOrderVolterra(bound=False, value=None), name=&apos;hrf_kernel&apos;), period=None, hrf_length=None, variables_of_interest=None): Needs testing, debugging, etc..."
       ]
      }
     ], 
     "prompt_number": 12
    }, 
    {
     "cell_type": "markdown", 
     "source": [
      "* In Polonsky et al a difference of exponential functions was fitted to functional data from the visual cortex."
     ]
    }, 
    {
     "cell_type": "code", 
     "collapsed": false, 
     "input": [
      "bold_2 = monitors.Bold(hrf_kernel=equations.DoubleExponential())"
     ], 
     "language": "python", 
     "outputs": [
      {
       "output_type": "stream", 
       "stream": "stdout", 
       "text": [
        "2013-08-14 00:10:22,738 - INFO - tvb.simulator.common - Bold(hrf_kernel, period, hrf_length, variables_of_interest): initing..."
       ]
      }, 
      {
       "output_type": "stream", 
       "stream": "stdout", 
       "text": [
        "2013-08-14 00:10:22,738 - INFO - tvb.simulator.common - Bold(hrf_kernel, period, hrf_length, variables_of_interest): initing..."
       ]
      }, 
      {
       "output_type": "stream", 
       "stream": "stdout", 
       "text": [
        "2013-08-14 00:10:22,739 - WARNING - tvb.simulator.common - Bold(hrf_kernel=Equation(bound=True, value=FirstOrderVolterra(bound=False, value=None), name=&apos;hrf_kernel&apos;), period=None, hrf_length=None, variables_of_interest=None): Needs testing, debugging, etc..."
       ]
      }, 
      {
       "output_type": "stream", 
       "stream": "stdout", 
       "text": [
        "2013-08-14 00:10:22,739 - WARNING - tvb.simulator.common - Bold(hrf_kernel=Equation(bound=True, value=FirstOrderVolterra(bound=False, value=None), name=&apos;hrf_kernel&apos;), period=None, hrf_length=None, variables_of_interest=None): Needs testing, debugging, etc..."
       ]
      }
     ], 
     "prompt_number": 13
    }, 
    {
     "cell_type": "markdown", 
     "source": [
      "Now you can compute the HRFs for each monitor."
     ]
    }, 
    {
     "cell_type": "code", 
     "collapsed": false, 
     "input": [
      "bold_1.dt = 2**-4", 
      "bold_2.dt = 2**-4", 
      "bold_1.compute_hrf()", 
      "bold_2.compute_hrf()"
     ], 
     "language": "python", 
     "outputs": [
      {
       "output_type": "stream", 
       "stream": "stdout", 
       "text": [
        "2013-08-14 00:11:09,479 - WARNING - tvb.simulator.common - Bold(hrf_kernel=Gamma(bound=False, value=None), variables_of_interest=[], period=2000.0, hrf_length=19200.0): Needs testing, debugging, etc..."
       ]
      }, 
      {
       "output_type": "stream", 
       "stream": "stdout", 
       "text": [
        "2013-08-14 00:11:09,479 - WARNING - tvb.simulator.common - Bold(hrf_kernel=Gamma(bound=False, value=None), variables_of_interest=[], period=2000.0, hrf_length=19200.0): Needs testing, debugging, etc..."
       ]
      }, 
      {
       "output_type": "stream", 
       "stream": "stdout", 
       "text": [
        "2013-08-14 00:11:09,485 - WARNING - tvb.simulator.common - Bold(hrf_kernel=DoubleExponential(bound=False, value=None), variables_of_interest=[], period=2000.0, hrf_length=19200.0): Needs testing, debugging, etc..."
       ]
      }, 
      {
       "output_type": "stream", 
       "stream": "stdout", 
       "text": [
        "2013-08-14 00:11:09,485 - WARNING - tvb.simulator.common - Bold(hrf_kernel=DoubleExponential(bound=False, value=None), variables_of_interest=[], period=2000.0, hrf_length=19200.0): Needs testing, debugging, etc..."
       ]
      }
     ], 
     "prompt_number": 15
    }, 
    {
     "cell_type": "code", 
     "collapsed": false, 
     "input": [
      "plot(bold._stock_time, bold.hemodynamic_response_function.T[::-1]); ", 
      "plot(bold_1._stock_time, 10.* bold_1.hemodynamic_response_function.T[::-1]);", 
      "plot(bold_2._stock_time, 10.* bold_2.hemodynamic_response_function.T[::-1]); ", 
      "ylabel('hrf');xlabel('time [sec]')"
     ], 
     "language": "python", 
     "outputs": [
      {
       "output_type": "pyout", 
       "prompt_number": 17, 
       "text": [
        "&lt;matplotlib.text.Text at 0x1221d0fd0&gt;"
       ]
      }, 
      {
       "output_type": "display_data", 
       "png": "[encoded data removed]"
      }
     ], 
     "prompt_number": 17
    }
   ]
  }
 ]
}